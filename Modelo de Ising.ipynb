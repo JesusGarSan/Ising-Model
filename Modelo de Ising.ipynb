{
 "cells": [
  {
   "cell_type": "markdown",
   "metadata": {},
   "source": [
    "# MODELO DE ISING - Algoritmo de Metrópolis"
   ]
  },
  {
   "cell_type": "markdown",
   "metadata": {},
   "source": [
    "# ------------------------------------------------------"
   ]
  },
  {
   "cell_type": "markdown",
   "metadata": {},
   "source": [
    "## Tarea:\n",
    "\n",
    "Hacer la simulación y obtener los resultados con las gráficas de las diapositivas.\n",
    "\n",
    "Obtener los exponentes del sistema sin el sesgo de confirmación de ya saber cuánto valen.\n",
    "\n",
    "## Entrega:\n",
    "\n",
    "Hacer un trabajo en latex sobre la física estudiada. No tiene interés en ver ningún código.\n"
   ]
  },
  {
   "cell_type": "markdown",
   "metadata": {},
   "source": [
    "# ------------------------------------------------------"
   ]
  },
  {
   "cell_type": "markdown",
   "metadata": {},
   "source": [
    "## Preámbulos"
   ]
  },
  {
   "cell_type": "markdown",
   "metadata": {},
   "source": [
    "### Consideraciones:\n",
    "- Debemos dar unos parámetros adecuados para cada temperatura. Lo que funcione bien para $T$ altas y bajas puede no funcionar bien cerca de la crítica\n",
    "- A $T$ alta una buena configuración inicial puede ser aleatoria.\n",
    "- A $T$ cercana a $T_C$ no hay una condicion inicial buena y sencilla. Podemos coger la configuración final de la temperatura más cercana a la crítica que tengamos.\n",
    "- Por tanto, es útil guardar todas las configuraciones finales que simulemos.\n",
    "- Dejamos pasar bastantes pasos Monte Carlo entre medidas. A temperaturas altas y bajamos podemos tomar medidas cada pocos pasos Monte Carlo. Cerca de $T_C$ hay que tomar medidas cada más tiempo, para dejar que las medidas estén menos correlacionadas. Hay que ajustar este parámetro junto con la temepratura.\n",
    "    #### Eficiencia:\n",
    "    - Es preferible utilizar índices de $1$ a $L^2$ $\\rightarrow$ Generamos menos números aleatorios, más eficiente\n",
    "    - En vez de verificar cuál es el vecino de un nodo cada vez, crearemos tablas de cuál es el vecino cada vez $\\rightarrow$ Menos cuentas, más eficiencia\n",
    "    - Sólo calculamos $h(j)$ una vez por cada $T$\n",
    "        ##### Python:\n",
    "        - Utilizar numpy siempre que sea posible\n",
    "        - Evitar el uso de ciclos *for*\n",
    "        - No graficar cosas, guardar los resultados y graficar a parte\n",
    "    #### Características:\n",
    "    - $1$ paso Monte Carlo consiste en $N$ intentos de cambio de los espines (darle en media a todos los espines una oportunidad de cambiar).\n",
    "    - Condiciones de contorno periódicas $\\rightarrow$ Evitamos efectos de borde (caso más cercano a $L = \\inf $ )\n",
    "    - Termalización: Dejamos avanzar el sistema varios pasos Monte Carlo antes de empezar a medir (no nos interesa el sistema hasta que se termaliza)\n",
    "### Problemas:\n",
    "- Encontraremos efectos de tamaño finito\n",
    "- Además, los errores crecen en nuestra zona de interés (cerca de $T_C$). La varianza y el tiempo de correlación aumentan cerca de $T_C$, lo que aumenta el error"
   ]
  },
  {
   "cell_type": "markdown",
   "metadata": {},
   "source": [
    "## Simulación"
   ]
  },
  {
   "cell_type": "code",
   "execution_count": 48,
   "metadata": {},
   "outputs": [],
   "source": [
    "# importación de librerías\n",
    "import numpy as np"
   ]
  },
  {
   "cell_type": "markdown",
   "metadata": {},
   "source": [
    "#### Parámetros Globales"
   ]
  },
  {
   "cell_type": "code",
   "execution_count": 49,
   "metadata": {},
   "outputs": [],
   "source": [
    "# Parámetros Globales\n",
    "global L, N\n",
    "L = 10 # Longitud de un lado del retículo cuadrado\n",
    "N = L**2 # Número de nodos\n",
    "\n"
   ]
  },
  {
   "cell_type": "code",
   "execution_count": 50,
   "metadata": {},
   "outputs": [],
   "source": [
    "# Función para calcular los vecinos de cada uno de los nodos de la red. SÓLO SE HACE UNA VEZ\n",
    "def get_neighbors():\n",
    "    n1 = [0] * (L * L)\n",
    "    n2 = [0] * (L * L)\n",
    "    n3 = [0] * (L * L)\n",
    "    n4 = [0] * (L * L)\n",
    "    \n",
    "    for ix in range(1, L + 1):\n",
    "        for iy in range(1, L + 1):\n",
    "            i = (iy - 1) * L + ix\n",
    "            ix1 = ix + 1 if ix != L else 1\n",
    "            n1[i - 1] = (iy - 1) * L + ix1\n",
    "            iy2 = iy + 1 if iy != L else 1\n",
    "            n2[i - 1] = (iy2 - 1) * L + ix\n",
    "            ix3 = ix - 1 if ix != 1 else L\n",
    "            n3[i - 1] = (iy - 1) * L + ix3\n",
    "            iy4 = iy - 1 if iy != 1 else L\n",
    "            n4[i - 1] = (iy4 - 1) * L + ix\n",
    "    \n",
    "    return [n1, n2, n3, n4]\n",
    "    \n",
    "neighbors = get_neighbors()"
   ]
  },
  {
   "cell_type": "markdown",
   "metadata": {},
   "source": [
    "\n",
    "#### Parámetros específicos para cada T\n"
   ]
  },
  {
   "cell_type": "code",
   "execution_count": 51,
   "metadata": {},
   "outputs": [],
   "source": [
    "\n",
    "T = 2\n",
    "MC = 100 # Número de pasos Monte Carlo a dar\n",
    "M0 = 20 # Número de pasos Monte Carlo hasta termalizaar\n"
   ]
  }
 ],
 "metadata": {
  "kernelspec": {
   "display_name": "Python 3",
   "language": "python",
   "name": "python3"
  },
  "language_info": {
   "codemirror_mode": {
    "name": "ipython",
    "version": 3
   },
   "file_extension": ".py",
   "mimetype": "text/x-python",
   "name": "python",
   "nbconvert_exporter": "python",
   "pygments_lexer": "ipython3",
   "version": "3.10.9"
  }
 },
 "nbformat": 4,
 "nbformat_minor": 2
}
