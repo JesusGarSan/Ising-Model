{
 "cells": [
  {
   "cell_type": "markdown",
   "metadata": {},
   "source": [
    "# MODELO DE ISING 2D - Algoritmo de Metrópolis"
   ]
  },
  {
   "cell_type": "markdown",
   "metadata": {},
   "source": [
    "# ------------------------------------------------------"
   ]
  },
  {
   "cell_type": "markdown",
   "metadata": {},
   "source": [
    "## Tarea:\n",
    "\n",
    "Hacer la simulación y obtener los resultados con las gráficas de las diapositivas.\n",
    "\n",
    "Obtener los exponentes del sistema sin el sesgo de confirmación de ya saber cuánto valen.\n",
    "\n",
    "## Entrega:\n",
    "\n",
    "Hacer un trabajo en latex sobre la física estudiada. No tiene interés en ver ningún código.\n"
   ]
  },
  {
   "cell_type": "markdown",
   "metadata": {},
   "source": [
    "# ------------------------------------------------------"
   ]
  },
  {
   "cell_type": "markdown",
   "metadata": {},
   "source": [
    "## Preámbulos"
   ]
  },
  {
   "cell_type": "markdown",
   "metadata": {},
   "source": [
    "### Consideraciones:\n",
    "- Debemos dar unos parámetros adecuados para cada temperatura. Lo que funcione bien para $T$ altas y bajas puede no funcionar bien cerca de la crítica\n",
    "- A $T$ alta una buena configuración inicial puede ser aleatoria.\n",
    "- A $T$ cercana a $T_C$ no hay una condicion inicial buena y sencilla. Podemos coger la configuración final de la temperatura más cercana a la crítica que tengamos.\n",
    "- Por tanto, es útil guardar todas las configuraciones finales que simulemos.\n",
    "- Dejamos pasar bastantes pasos Monte Carlo entre medidas. A temperaturas altas y bajamos podemos tomar medidas cada pocos pasos Monte Carlo. Cerca de $T_C$ hay que tomar medidas cada más tiempo, para dejar que las medidas estén menos correlacionadas. Hay que ajustar este parámetro junto con la temepratura.\n",
    "    #### Eficiencia:\n",
    "    - Es preferible utilizar índices de $1$ a $L^2$ $\\rightarrow$ Generamos menos números aleatorios, más eficiente\n",
    "    - En vez de verificar cuál es el vecino de un nodo cada vez, crearemos tablas de cuál es el vecino cada vez $\\rightarrow$ Menos cuentas, más eficiencia\n",
    "    - Sólo calculamos $h(j)$ una vez por cada $T$\n",
    "        ##### Python:\n",
    "        - Utilizar numpy siempre que sea posible\n",
    "        - Evitar el uso de ciclos *for*\n",
    "        - No graficar cosas, guardar los resultados y graficar a parte\n",
    "    #### Características:\n",
    "    - $1$ paso Monte Carlo consiste en $N$ intentos de cambio de los espines (darle en media a todos los espines una oportunidad de cambiar).\n",
    "    - Condiciones de contorno periódicas $\\rightarrow$ Evitamos efectos de borde (caso más cercano a $L = \\inf $ )\n",
    "    - Termalización: Dejamos avanzar el sistema varios pasos Monte Carlo antes de empezar a medir (no nos interesa el sistema hasta que se termaliza)\n",
    "### Problemas:\n",
    "- Encontraremos efectos de tamaño finito\n",
    "- Además, los errores crecen en nuestra zona de interés (cerca de $T_C$). La varianza y el tiempo de correlación aumentan cerca de $T_C$, lo que aumenta el error"
   ]
  },
  {
   "cell_type": "markdown",
   "metadata": {},
   "source": [
    "## Simulación"
   ]
  },
  {
   "cell_type": "code",
   "execution_count": 54,
   "metadata": {},
   "outputs": [],
   "source": [
    "# importación de librerías\n",
    "import numpy as np\n",
    "import csv\n",
    "from datetime import datetime"
   ]
  },
  {
   "cell_type": "markdown",
   "metadata": {},
   "source": [
    "#### Parámetros Globales"
   ]
  },
  {
   "cell_type": "code",
   "execution_count": 55,
   "metadata": {},
   "outputs": [],
   "source": [
    "# Parámetros Globales\n",
    "global L, N\n",
    "L = 50 # Longitud de un lado del retículo cuadrado\n",
    "N = L*L # Número de nodos\n",
    "\n"
   ]
  },
  {
   "cell_type": "code",
   "execution_count": 56,
   "metadata": {},
   "outputs": [],
   "source": [
    "# Función para calcular los vecinos de cada uno de los nodos de la red. SÓLO SE HACE UNA VEZ\n",
    "def get_neighbors():\n",
    "    n1 = [0] * (L * L)\n",
    "    n2 = [0] * (L * L)\n",
    "    n3 = [0] * (L * L)\n",
    "    n4 = [0] * (L * L)\n",
    "    \n",
    "    for iy in range(L):\n",
    "        for ix in range(L):\n",
    "            i = iy * L + ix\n",
    "            ix1 = (ix + 1) % L\n",
    "            n1[i] = iy * L + ix1\n",
    "            iy2 = (iy + 1) % L\n",
    "            n2[i] = iy2 * L + ix\n",
    "            ix3 = (ix - 1) % L\n",
    "            n3[i] = iy * L + ix3\n",
    "            iy4 = (iy - 1) % L\n",
    "            n4[i] = iy4 * L + ix\n",
    "    \n",
    "    return n1, n2, n3, n4\n",
    "\n",
    "    \n",
    "n1, n2, n3, n4 = get_neighbors()"
   ]
  },
  {
   "cell_type": "markdown",
   "metadata": {},
   "source": [
    "\n",
    "#### Parámetros específicos para cada T\n"
   ]
  },
  {
   "cell_type": "code",
   "execution_count": 57,
   "metadata": {},
   "outputs": [
    {
     "name": "stdout",
     "output_type": "stream",
     "text": [
      "Número de pasos Monte Carlo a realizar: 1000\n"
     ]
    }
   ],
   "source": [
    "\n",
    "T = 2 # Temperatura\n",
    "M = 100 # Número de medidas a realizar\n",
    "M0 = 20 # Número de pasos Monte Carlo hasta termalizar\n",
    "mc = 10 # Número de pasos Monte Carlo entre cada medida\n",
    "\n",
    "print(f\"Número de pasos Monte Carlo a realizar: {M*mc}\")"
   ]
  },
  {
   "cell_type": "markdown",
   "metadata": {},
   "source": [
    "#### Cálculo del parámetro de aceptación"
   ]
  },
  {
   "cell_type": "code",
   "execution_count": 58,
   "metadata": {},
   "outputs": [],
   "source": [
    "# Cálculo del parámetro de aceptación\n",
    "h = np.zeros(5)\n",
    "\n",
    "for j in np.linspace(-4, 4, 5, dtype=int):\n",
    "    h[j] = np.min([1.0, np.exp(-2*j/T)])\n",
    "    "
   ]
  },
  {
   "cell_type": "markdown",
   "metadata": {},
   "source": [
    "#### Condición inicial y termalización"
   ]
  },
  {
   "cell_type": "code",
   "execution_count": 59,
   "metadata": {},
   "outputs": [
    {
     "name": "stdout",
     "output_type": "stream",
     "text": [
      "Termalizamos con 20 pasos MC (50000 iteraciones)\n"
     ]
    }
   ],
   "source": [
    "# Condición inicial aleatoria\n",
    "s = np.random.choice([1,-1], N)\n",
    "\n",
    "# Termalización\n",
    "print(f\"Termalizamos con {M0} pasos MC ({M0*N} iteraciones)\")\n",
    "for _ in range(M0*N):\n",
    "    i = np.random.randint(N) # Escogemos un índice al azar\n",
    "    ib = s[i] *( s[n1[i]] + s[n2[i]] + s[n3[i]] + s[n4[i]] )\n",
    "    if np.random.rand() < h[ib]: s[i] = -s[i]\n",
    "\n",
    "# np.reshape(s, (L,L))"
   ]
  },
  {
   "cell_type": "markdown",
   "metadata": {},
   "source": [
    "##### Inicialización de los promedios"
   ]
  },
  {
   "cell_type": "code",
   "execution_count": 60,
   "metadata": {},
   "outputs": [],
   "source": [
    "RM = np.zeros(M) # magnetización a lo largo de la evolución del sistema\n",
    "RM0 = np.zeros(M) # magnetización a lo largo de la evolución del sistema\n",
    "\n",
    "c = 0. # Correlación media\n",
    "rm = 0. # Magnetización media\n",
    "rm2 = 0. # magnetización media ^ 2\n",
    "rm4 = 0. # magnetización media ^ 4\n",
    "rm1 = np.abs(np.sum(s))/N"
   ]
  },
  {
   "cell_type": "markdown",
   "metadata": {},
   "source": [
    "### Evolución del sistema"
   ]
  },
  {
   "cell_type": "code",
   "execution_count": 61,
   "metadata": {},
   "outputs": [
    {
     "name": "stdout",
     "output_type": "stream",
     "text": [
      "Medida 0\n",
      "Medida 1\n",
      "Medida 2\n",
      "Medida 3\n",
      "Medida 4\n",
      "Medida 5\n",
      "Medida 6\n",
      "Medida 7\n",
      "Medida 8\n"
     ]
    },
    {
     "name": "stdout",
     "output_type": "stream",
     "text": [
      "Medida 9\n",
      "Medida 10\n",
      "Medida 11\n",
      "Medida 12\n",
      "Medida 13\n",
      "Medida 14\n",
      "Medida 15\n",
      "Medida 16\n",
      "Medida 17\n",
      "Medida 18\n",
      "Medida 19\n",
      "Medida 20\n",
      "Medida 21\n",
      "Medida 22\n",
      "Medida 23\n",
      "Medida 24\n",
      "Medida 25\n",
      "Medida 26\n",
      "Medida 27\n",
      "Medida 28\n",
      "Medida 29\n",
      "Medida 30\n",
      "Medida 31\n",
      "Medida 32\n",
      "Medida 33\n",
      "Medida 34\n",
      "Medida 35\n",
      "Medida 36\n",
      "Medida 37\n",
      "Medida 38\n",
      "Medida 39\n",
      "Medida 40\n",
      "Medida 41\n",
      "Medida 42\n",
      "Medida 43\n",
      "Medida 44\n",
      "Medida 45\n",
      "Medida 46\n",
      "Medida 47\n",
      "Medida 48\n",
      "Medida 49\n",
      "Medida 50\n",
      "Medida 51\n",
      "Medida 52\n",
      "Medida 53\n",
      "Medida 54\n",
      "Medida 55\n",
      "Medida 56\n",
      "Medida 57\n",
      "Medida 58\n",
      "Medida 59\n",
      "Medida 60\n",
      "Medida 61\n",
      "Medida 62\n",
      "Medida 63\n",
      "Medida 64\n",
      "Medida 65\n",
      "Medida 66\n",
      "Medida 67\n",
      "Medida 68\n",
      "Medida 69\n",
      "Medida 70\n",
      "Medida 71\n",
      "Medida 72\n",
      "Medida 73\n",
      "Medida 74\n",
      "Medida 75\n",
      "Medida 76\n",
      "Medida 77\n",
      "Medida 78\n",
      "Medida 79\n",
      "Medida 80\n",
      "Medida 81\n",
      "Medida 82\n",
      "Medida 83\n",
      "Medida 84\n",
      "Medida 85\n",
      "Medida 86\n",
      "Medida 87\n",
      "Medida 88\n",
      "Medida 89\n",
      "Medida 90\n",
      "Medida 91\n",
      "Medida 92\n",
      "Medida 93\n",
      "Medida 94\n",
      "Medida 95\n",
      "Medida 96\n",
      "Medida 97\n",
      "Medida 98\n",
      "Medida 99\n"
     ]
    }
   ],
   "source": [
    "for j in range(M): # Número de medidas a realizar\n",
    "    print(f\"Medida {j}\")\n",
    "    for _ in range(mc*N): # Número de pasos Monte Carlo entre medidas\n",
    "        i = np.random.randint(N) # Escogemos un índice al azar\n",
    "        ib = s[i] *( s[n1[i]] + s[n2[i]] + s[n3[i]] + s[n4[i]] )\n",
    "        if np.random.rand() < h[ib]: s[i] = -s[i]\n",
    "        \n",
    "    rm0 = np.abs(np.sum(s))/N # Magnetización actual\n",
    "    RM0[j] = rm0\n",
    "    rm = rm + rm0\n",
    "    RM[j] = rm\n",
    "    rm2 = rm2 + rm0*rm0\n",
    "    rm4 = rm4 + rm0*rm0*rm0*rm0\n",
    "    c = c + rm0*rm1\n",
    "    rm1 = rm0"
   ]
  },
  {
   "cell_type": "code",
   "execution_count": 65,
   "metadata": {},
   "outputs": [
    {
     "name": "stderr",
     "output_type": "stream",
     "text": [
      "C:\\Users\\LENOVO\\AppData\\Local\\Temp\\ipykernel_11960\\2270728851.py:7: RuntimeWarning: invalid value encountered in sqrt\n",
      "  error = np.sqrt(rm2*(2*tau+1)/M)\n"
     ]
    }
   ],
   "source": [
    "# Cálculo y guardado de medidas\n",
    "\n",
    "rm = rm/M\n",
    "rm2 = rm2/M\n",
    "rm4 = rm4/M\n",
    "c = (c/M - rm*rm)/rm2\n",
    "if c != 1.0: tau = c/(1.-c)\n",
    "error = np.sqrt(rm2*(2*tau+1)/M)\n",
    "\n",
    "\n",
    "with open('medidas.csv', 'a', newline='') as file:\n",
    "    writer = csv.writer(file, delimiter=',')\n",
    "    writer.writerows([[T, L, M, M0, mc, rm, rm2, error, mc*tau, c, datetime.now()]])\n",
    "\n",
    "with open(f'rm0_{L}_{T}_{M0}_{M}_{mc}.csv', 'w') as file:\n",
    "    writer = csv.writer(file, delimiter=',')\n",
    "    writer.writerows([RM0])\n",
    "    \n",
    "with open(f'sfinal_{L}_{T}_{M0}_{M}_{mc}.csv', 'w') as file:\n",
    "    writer = csv.writer(file, delimiter=',')\n",
    "    writer.writerows([s])"
   ]
  }
 ],
 "metadata": {
  "kernelspec": {
   "display_name": "Python 3",
   "language": "python",
   "name": "python3"
  },
  "language_info": {
   "codemirror_mode": {
    "name": "ipython",
    "version": 3
   },
   "file_extension": ".py",
   "mimetype": "text/x-python",
   "name": "python",
   "nbconvert_exporter": "python",
   "pygments_lexer": "ipython3",
   "version": "3.10.9"
  }
 },
 "nbformat": 4,
 "nbformat_minor": 2
}
